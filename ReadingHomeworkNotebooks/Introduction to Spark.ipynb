{
 "cells": [
  {
   "cell_type": "markdown",
   "metadata": {},
   "source": [
    "This Notebook shows introduces the basic concepts of RDDs and operations on them visually, by showing the contents of the RDDs as a table.\n",
    "\n",
    "**Note: If you are looking at this in GitHub, you may not be able to see the HTML tables. Make sure to use the nbviewer link: http://nbviewer.jupyter.org/github/umddb/cmsc424-fall2016/tree/master/**\n",
    "\n",
    "### Introduction\n",
    "\n",
    "Apache Spark is a relatively new cluster computing framework, developed originally at UC Berkeley. It significantly generalizes the 2-stage Map-Reduce paradigm (originally proposed by Google and popularized by open-source Hadoop system); Spark is instead based on the abstraction of **resilient distributed datasets (RDDs)**. An RDD is basically a distributed collection of items, that can be created in a variety of ways. Spark provides a set of operations to transform one or more RDDs into an output RDD, and analysis tasks are written as chains of these operations."
   ]
  },
  {
   "cell_type": "markdown",
   "metadata": {},
   "source": [
    "### Display RDD\n",
    "The following helper functions displays the current contents of an RDD (partition-by-partition). This is best used for small RDDs with manageable number of partitions."
   ]
  },
  {
   "cell_type": "code",
   "execution_count": 1,
   "metadata": {
    "collapsed": true
   },
   "outputs": [],
   "source": [
    "class DisplayRDD:\n",
    "        def __init__(self, rdd):\n",
    "                self.rdd = rdd\n",
    "\n",
    "        def _repr_html_(self):                                  \n",
    "                x = self.rdd.mapPartitionsWithIndex(lambda i, x: [(i, [y for y in x])])\n",
    "                l = x.collect()\n",
    "                s = \"<table style=\\\"border: 1px\\\"><tr>{}</tr><tr><td>\".format(\"\".join([\"<th>Partition {}\".format(str(j)) for (j, r) in l]))\n",
    "                s += '</td><td valign=\"bottom\" halign=\"left\">'.join([\"<ul><li>{}</ul>\".format(\"<li>\".join([str(rr) for rr in r])) for (j, r) in l])\n",
    "                s += \"</td></table>\"\n",
    "                return s"
   ]
  },
  {
   "cell_type": "markdown",
   "metadata": {},
   "source": [
    "### Importing the packages "
   ]
  },
  {
   "cell_type": "code",
   "execution_count": 2,
   "metadata": {
    "collapsed": true
   },
   "outputs": [],
   "source": [
    "import pyspark\n",
    "sc = pyspark.SparkContext('local[*]')"
   ]
  },
  {
   "cell_type": "markdown",
   "metadata": {
    "collapsed": true
   },
   "source": [
    "### Basics 1\n",
    "Lets start with some basic operations using a small RDD to visualize what's going on. We will create a RDD of Strings, using the `states.txt` file which contains a list of the state names.\n",
    "\n",
    "The notebook has already initialized a SparkContext, and we can refer to it as `sc`.\n",
    "\n",
    "We will use `sc.textFile` to create this RDD. This operations reads the file and treats every line as a separate object. We will use DisplayRDD() to visualize it. The second argument of `sc.textFile` is the number of partitions. We will set this as 10 to get started. If we don't do that, Spark will only create a single partition given the file is pretty small."
   ]
  },
  {
   "cell_type": "code",
   "execution_count": 3,
   "metadata": {},
   "outputs": [
    {
     "data": {
      "text/html": [
       "<table style=\"border: 1px\"><tr><th>Partition 0<th>Partition 1<th>Partition 2<th>Partition 3<th>Partition 4<th>Partition 5<th>Partition 6<th>Partition 7<th>Partition 8<th>Partition 9</tr><tr><td><ul><li>Alabama<li>Hawaii<li>Massachusetts<li>New Mexico<li>South Dakota</ul></td><td valign=\"bottom\" halign=\"left\"><ul><li>Alaska<li>Idaho<li>Michigan<li>New York<li>Tennessee<li>Arizona</ul></td><td valign=\"bottom\" halign=\"left\"><ul><li>Illinois<li>Minnesota<li>North Carolina<li>Texas</ul></td><td valign=\"bottom\" halign=\"left\"><ul><li>Arkansas<li>Indiana<li>Mississippi<li>North Dakota<li>Utah</ul></td><td valign=\"bottom\" halign=\"left\"><ul><li>California<li>Iowa<li>Missouri<li>Ohio<li>Vermont<li>Colorado</ul></td><td valign=\"bottom\" halign=\"left\"><ul><li>Kansas<li>Montana<li>Oklahoma<li>Virginia<li>Connecticut<li>Kentucky</ul></td><td valign=\"bottom\" halign=\"left\"><ul><li>Nebraska<li>Oregon<li>Washington<li>Delaware<li>Louisiana</ul></td><td valign=\"bottom\" halign=\"left\"><ul><li>Nevada<li>Pennsylvania<li>West Virginia<li>Florida</ul></td><td valign=\"bottom\" halign=\"left\"><ul><li>Maine<li>New Hampshire<li>Rhode Island<li>Wisconsin<li>Georgia</ul></td><td valign=\"bottom\" halign=\"left\"><ul><li>Maryland<li>New Jersey<li>South Carolina<li>Wyoming</ul></td></table>"
      ],
      "text/plain": [
       "<__main__.DisplayRDD at 0x7f48344703c8>"
      ]
     },
     "execution_count": 3,
     "metadata": {},
     "output_type": "execute_result"
    }
   ],
   "source": [
    "states_rdd = sc.textFile('states.txt', 10)\n",
    "DisplayRDD(states_rdd)"
   ]
  },
  {
   "cell_type": "markdown",
   "metadata": {},
   "source": [
    "The above table shows the contents of each partition as a list -- so the first Partition has 5 elements in it ('Alabama', ...). We can `repartition` the RDD to get a fewer partitions so it will be easier to see."
   ]
  },
  {
   "cell_type": "code",
   "execution_count": 4,
   "metadata": {},
   "outputs": [
    {
     "data": {
      "text/html": [
       "<table style=\"border: 1px\"><tr><th>Partition 0<th>Partition 1<th>Partition 2<th>Partition 3<th>Partition 4</tr><tr><td><ul><li>Arkansas<li>Indiana<li>Mississippi<li>North Dakota<li>Utah<li>Maine<li>New Hampshire<li>Rhode Island<li>Wisconsin<li>Georgia<li>Maryland<li>New Jersey<li>South Carolina<li>Wyoming</ul></td><td valign=\"bottom\" halign=\"left\"><ul><li>Alabama<li>Hawaii<li>Massachusetts<li>New Mexico<li>South Dakota<li>Alaska<li>Idaho<li>Michigan<li>New York<li>Tennessee<li>Arizona</ul></td><td valign=\"bottom\" halign=\"left\"><ul><li>Nebraska<li>Oregon<li>Washington<li>Delaware<li>Louisiana<li>Nevada<li>Pennsylvania<li>West Virginia<li>Florida</ul></td><td valign=\"bottom\" halign=\"left\"><ul><li>California<li>Iowa<li>Missouri<li>Ohio<li>Vermont<li>Colorado<li>Kansas<li>Montana<li>Oklahoma<li>Virginia<li>Connecticut<li>Kentucky</ul></td><td valign=\"bottom\" halign=\"left\"><ul><li>Illinois<li>Minnesota<li>North Carolina<li>Texas</ul></td></table>"
      ],
      "text/plain": [
       "<__main__.DisplayRDD at 0x7f4834470320>"
      ]
     },
     "execution_count": 4,
     "metadata": {},
     "output_type": "execute_result"
    }
   ],
   "source": [
    "states_rdd = states_rdd.repartition(5)\n",
    "DisplayRDD(states_rdd)"
   ]
  },
  {
   "cell_type": "markdown",
   "metadata": {},
   "source": [
    "Let's do a transformation where we convert a string to a 2-tuple, where the second value is the length of the string. We will just use a `map` for this -- we have to provide a function as the input that transforms each element of the RDD. In this case, we are using the `lambda` keyword to define a function inline. See here: https://pythonconquerstheuniverse.wordpress.com/2011/08/29/lambda_tutorial/ for a tutorial on lambda functions.\n",
    "\n",
    "The below lambda function is simply taking in a string: s, and returning a 2-tuple: (s, len(s))"
   ]
  },
  {
   "cell_type": "code",
   "execution_count": 6,
   "metadata": {},
   "outputs": [
    {
     "data": {
      "text/html": [
       "<table style=\"border: 1px\"><tr><th>Partition 0<th>Partition 1<th>Partition 2<th>Partition 3<th>Partition 4</tr><tr><td><ul><li>('Arkansas', 8)<li>('Indiana', 7)<li>('Mississippi', 11)<li>('North Dakota', 12)<li>('Utah', 4)<li>('Maine', 5)<li>('New Hampshire', 13)<li>('Rhode Island', 12)<li>('Wisconsin', 9)<li>('Georgia', 7)<li>('Maryland', 8)<li>('New Jersey', 10)<li>('South Carolina', 14)<li>('Wyoming', 7)</ul></td><td valign=\"bottom\" halign=\"left\"><ul><li>('Alabama', 7)<li>('Hawaii', 6)<li>('Massachusetts', 13)<li>('New Mexico', 10)<li>('South Dakota', 12)<li>('Alaska', 6)<li>('Idaho', 5)<li>('Michigan', 8)<li>('New York', 8)<li>('Tennessee', 9)<li>('Arizona', 7)</ul></td><td valign=\"bottom\" halign=\"left\"><ul><li>('Nebraska', 8)<li>('Oregon', 6)<li>('Washington', 10)<li>('Delaware', 8)<li>('Louisiana', 9)<li>('Nevada', 6)<li>('Pennsylvania', 12)<li>('West Virginia', 13)<li>('Florida', 7)</ul></td><td valign=\"bottom\" halign=\"left\"><ul><li>('California', 10)<li>('Iowa', 4)<li>('Missouri', 8)<li>('Ohio', 4)<li>('Vermont', 7)<li>('Colorado', 8)<li>('Kansas', 6)<li>('Montana', 7)<li>('Oklahoma', 8)<li>('Virginia', 8)<li>('Connecticut', 11)<li>('Kentucky', 8)</ul></td><td valign=\"bottom\" halign=\"left\"><ul><li>('Illinois', 8)<li>('Minnesota', 9)<li>('North Carolina', 14)<li>('Texas', 5)</ul></td></table>"
      ],
      "text/plain": [
       "<__main__.DisplayRDD at 0x7f483451e6d8>"
      ]
     },
     "execution_count": 6,
     "metadata": {},
     "output_type": "execute_result"
    }
   ],
   "source": [
    "def f1 (s):\n",
    "    return (s, len(s))\n",
    "states1 = states_rdd.map(f1)\n",
    "DisplayRDD(states1)"
   ]
  },
  {
   "cell_type": "markdown",
   "metadata": {},
   "source": [
    "Lets collect all the names with the same length together using a group by operation. \n",
    "```\n",
    "groupByKey([numTasks]) \tWhen called on a dataset of (K, V) pairs, returns a dataset of (K, Iterable<V>) pairs. \n",
    "```\n",
    "This wouldn't work as is, because state1 is using the name as the key. Let's change that around."
   ]
  },
  {
   "cell_type": "code",
   "execution_count": 7,
   "metadata": {},
   "outputs": [
    {
     "data": {
      "text/html": [
       "<table style=\"border: 1px\"><tr><th>Partition 0<th>Partition 1<th>Partition 2<th>Partition 3<th>Partition 4</tr><tr><td><ul><li>(8, 'Arkansas')<li>(7, 'Indiana')<li>(11, 'Mississippi')<li>(12, 'North Dakota')<li>(4, 'Utah')<li>(5, 'Maine')<li>(13, 'New Hampshire')<li>(12, 'Rhode Island')<li>(9, 'Wisconsin')<li>(7, 'Georgia')<li>(8, 'Maryland')<li>(10, 'New Jersey')<li>(14, 'South Carolina')<li>(7, 'Wyoming')</ul></td><td valign=\"bottom\" halign=\"left\"><ul><li>(7, 'Alabama')<li>(6, 'Hawaii')<li>(13, 'Massachusetts')<li>(10, 'New Mexico')<li>(12, 'South Dakota')<li>(6, 'Alaska')<li>(5, 'Idaho')<li>(8, 'Michigan')<li>(8, 'New York')<li>(9, 'Tennessee')<li>(7, 'Arizona')</ul></td><td valign=\"bottom\" halign=\"left\"><ul><li>(8, 'Nebraska')<li>(6, 'Oregon')<li>(10, 'Washington')<li>(8, 'Delaware')<li>(9, 'Louisiana')<li>(6, 'Nevada')<li>(12, 'Pennsylvania')<li>(13, 'West Virginia')<li>(7, 'Florida')</ul></td><td valign=\"bottom\" halign=\"left\"><ul><li>(10, 'California')<li>(4, 'Iowa')<li>(8, 'Missouri')<li>(4, 'Ohio')<li>(7, 'Vermont')<li>(8, 'Colorado')<li>(6, 'Kansas')<li>(7, 'Montana')<li>(8, 'Oklahoma')<li>(8, 'Virginia')<li>(11, 'Connecticut')<li>(8, 'Kentucky')</ul></td><td valign=\"bottom\" halign=\"left\"><ul><li>(8, 'Illinois')<li>(9, 'Minnesota')<li>(14, 'North Carolina')<li>(5, 'Texas')</ul></td></table>"
      ],
      "text/plain": [
       "<__main__.DisplayRDD at 0x7f4834470d30>"
      ]
     },
     "execution_count": 7,
     "metadata": {},
     "output_type": "execute_result"
    }
   ],
   "source": [
    "states2 = states1.map(lambda x: (x[1], x[0]))\n",
    "DisplayRDD(states2)"
   ]
  },
  {
   "cell_type": "markdown",
   "metadata": {},
   "source": [
    "Note above that Spark did not do a shuffle to ensure that the same `keys` end up on the same partition. In fact, the `map` operation does not do a shuffle. \n",
    "\n",
    "Now we can do a groupByKey. "
   ]
  },
  {
   "cell_type": "code",
   "execution_count": 8,
   "metadata": {},
   "outputs": [
    {
     "data": {
      "text/html": [
       "<table style=\"border: 1px\"><tr><th>Partition 0<th>Partition 1<th>Partition 2<th>Partition 3<th>Partition 4</tr><tr><td><ul><li>(5, <pyspark.resultiterable.ResultIterable object at 0x7f483451ef60>)<li>(10, <pyspark.resultiterable.ResultIterable object at 0x7f48345330f0>)</ul></td><td valign=\"bottom\" halign=\"left\"><ul><li>(11, <pyspark.resultiterable.ResultIterable object at 0x7f483451e080>)<li>(6, <pyspark.resultiterable.ResultIterable object at 0x7f4834533198>)</ul></td><td valign=\"bottom\" halign=\"left\"><ul><li>(7, <pyspark.resultiterable.ResultIterable object at 0x7f4834533160>)<li>(12, <pyspark.resultiterable.ResultIterable object at 0x7f48345334e0>)</ul></td><td valign=\"bottom\" halign=\"left\"><ul><li>(8, <pyspark.resultiterable.ResultIterable object at 0x7f48345334a8>)<li>(13, <pyspark.resultiterable.ResultIterable object at 0x7f4834533588>)</ul></td><td valign=\"bottom\" halign=\"left\"><ul><li>(4, <pyspark.resultiterable.ResultIterable object at 0x7f4834533550>)<li>(9, <pyspark.resultiterable.ResultIterable object at 0x7f48345336a0>)<li>(14, <pyspark.resultiterable.ResultIterable object at 0x7f4834533710>)</ul></td></table>"
      ],
      "text/plain": [
       "<__main__.DisplayRDD at 0x7f4834521048>"
      ]
     },
     "execution_count": 8,
     "metadata": {},
     "output_type": "execute_result"
    }
   ],
   "source": [
    "states3 = states2.groupByKey()\n",
    "DisplayRDD(states3)"
   ]
  },
  {
   "cell_type": "markdown",
   "metadata": {},
   "source": [
    "That looks weird... it seems to have done a group by, but we are missing the groups themselves. This is because the type of the value is a `pyspark.resultiterable.ResultIterable` which our DisplayRDD code does not translate into strings. We can fix that by converting the `values` to lists, and then doing DisplayRDD.\n",
    "\n",
    "**Note that this is a limitation of the HTML code that we generate above -- you don't have to do this in order to further process this RDD.**"
   ]
  },
  {
   "cell_type": "code",
   "execution_count": 9,
   "metadata": {},
   "outputs": [
    {
     "data": {
      "text/html": [
       "<table style=\"border: 1px\"><tr><th>Partition 0<th>Partition 1<th>Partition 2<th>Partition 3<th>Partition 4</tr><tr><td><ul><li>(5, ['Maine', 'Idaho', 'Texas'])<li>(10, ['New Jersey', 'New Mexico', 'Washington', 'California'])</ul></td><td valign=\"bottom\" halign=\"left\"><ul><li>(11, ['Mississippi', 'Connecticut'])<li>(6, ['Hawaii', 'Alaska', 'Oregon', 'Nevada', 'Kansas'])</ul></td><td valign=\"bottom\" halign=\"left\"><ul><li>(7, ['Indiana', 'Georgia', 'Wyoming', 'Alabama', 'Arizona', 'Florida', 'Vermont', 'Montana'])<li>(12, ['North Dakota', 'Rhode Island', 'South Dakota', 'Pennsylvania'])</ul></td><td valign=\"bottom\" halign=\"left\"><ul><li>(8, ['Arkansas', 'Maryland', 'Michigan', 'New York', 'Nebraska', 'Delaware', 'Missouri', 'Colorado', 'Oklahoma', 'Virginia', 'Kentucky', 'Illinois'])<li>(13, ['New Hampshire', 'Massachusetts', 'West Virginia'])</ul></td><td valign=\"bottom\" halign=\"left\"><ul><li>(4, ['Utah', 'Iowa', 'Ohio'])<li>(9, ['Wisconsin', 'Tennessee', 'Louisiana', 'Minnesota'])<li>(14, ['South Carolina', 'North Carolina'])</ul></td></table>"
      ],
      "text/plain": [
       "<__main__.DisplayRDD at 0x7f483451efd0>"
      ]
     },
     "execution_count": 9,
     "metadata": {},
     "output_type": "execute_result"
    }
   ],
   "source": [
    "DisplayRDD(states3.mapValues(list))"
   ]
  },
  {
   "cell_type": "markdown",
   "metadata": {},
   "source": [
    "There it goes. Now we can see that the operation properly grouped together the state names by their lengths. This operation required a `shuffle` since originally all names with length, say 10, were all over the place.\n",
    "\n",
    "`groupByKey` does not reduce the size of the RDD. If we were interested in `counting` the number of states with a given length (i.e., a `group by count` query), we can use `reduceByKey` instead. However that requires us to do a map first."
   ]
  },
  {
   "cell_type": "code",
   "execution_count": 10,
   "metadata": {
    "scrolled": true
   },
   "outputs": [
    {
     "data": {
      "text/html": [
       "<table style=\"border: 1px\"><tr><th>Partition 0<th>Partition 1<th>Partition 2<th>Partition 3<th>Partition 4</tr><tr><td><ul><li>(8, 1)<li>(7, 1)<li>(11, 1)<li>(12, 1)<li>(4, 1)<li>(5, 1)<li>(13, 1)<li>(12, 1)<li>(9, 1)<li>(7, 1)<li>(8, 1)<li>(10, 1)<li>(14, 1)<li>(7, 1)</ul></td><td valign=\"bottom\" halign=\"left\"><ul><li>(7, 1)<li>(6, 1)<li>(13, 1)<li>(10, 1)<li>(12, 1)<li>(6, 1)<li>(5, 1)<li>(8, 1)<li>(8, 1)<li>(9, 1)<li>(7, 1)</ul></td><td valign=\"bottom\" halign=\"left\"><ul><li>(8, 1)<li>(6, 1)<li>(10, 1)<li>(8, 1)<li>(9, 1)<li>(6, 1)<li>(12, 1)<li>(13, 1)<li>(7, 1)</ul></td><td valign=\"bottom\" halign=\"left\"><ul><li>(10, 1)<li>(4, 1)<li>(8, 1)<li>(4, 1)<li>(7, 1)<li>(8, 1)<li>(6, 1)<li>(7, 1)<li>(8, 1)<li>(8, 1)<li>(11, 1)<li>(8, 1)</ul></td><td valign=\"bottom\" halign=\"left\"><ul><li>(8, 1)<li>(9, 1)<li>(14, 1)<li>(5, 1)</ul></td></table>"
      ],
      "text/plain": [
       "<__main__.DisplayRDD at 0x7f4834535908>"
      ]
     },
     "execution_count": 10,
     "metadata": {},
     "output_type": "execute_result"
    }
   ],
   "source": [
    "states4 = states2.mapValues(lambda x: 1)\n",
    "DisplayRDD(states4)"
   ]
  },
  {
   "cell_type": "markdown",
   "metadata": {},
   "source": [
    "`reduceByKey` takes in a single reduce function as the input which tells us what to do with any two values. In this case, we are simply going to use sum them up."
   ]
  },
  {
   "cell_type": "code",
   "execution_count": 11,
   "metadata": {},
   "outputs": [
    {
     "data": {
      "text/html": [
       "<table style=\"border: 1px\"><tr><th>Partition 0<th>Partition 1<th>Partition 2<th>Partition 3<th>Partition 4</tr><tr><td><ul><li>(5, 3)<li>(10, 4)</ul></td><td valign=\"bottom\" halign=\"left\"><ul><li>(11, 2)<li>(6, 5)</ul></td><td valign=\"bottom\" halign=\"left\"><ul><li>(7, 8)<li>(12, 4)</ul></td><td valign=\"bottom\" halign=\"left\"><ul><li>(8, 12)<li>(13, 3)</ul></td><td valign=\"bottom\" halign=\"left\"><ul><li>(4, 3)<li>(9, 4)<li>(14, 2)</ul></td></table>"
      ],
      "text/plain": [
       "<__main__.DisplayRDD at 0x7f4834535278>"
      ]
     },
     "execution_count": 11,
     "metadata": {},
     "output_type": "execute_result"
    }
   ],
   "source": [
    "DisplayRDD(states4.reduceByKey(lambda v1, v2: v1 + v2))"
   ]
  },
  {
   "cell_type": "markdown",
   "metadata": {},
   "source": [
    "These operations could be done faster through using `aggregateByKey`, but the syntax takes some getting used to. `aggregateByKey` takes a `start` value, a function that tells it what to do for a given element in the RDD, and another reduce function. "
   ]
  },
  {
   "cell_type": "code",
   "execution_count": null,
   "metadata": {},
   "outputs": [],
   "source": [
    "DisplayRDD(states2.aggregateByKey(0, lambda k, v: k+1, lambda v1, v2: v1+v2))"
   ]
  },
  {
   "cell_type": "markdown",
   "metadata": {},
   "source": [
    "### Basics 2: FlatMap\n",
    "\n",
    "Unlike a `map`, the function used for `flatMap` returns a list -- this is used to allow for the possibility that we will generate different numbers of outputs for different elements. Here is an example where we split each string in `states_rdd` into multiple substrings.\n",
    "\n",
    "The lambda function below splits a string into chunks of size 5: so 'South Dakota' gets split into 'South', ' Dako', 'ta', and so on. The lambda function itself returns a list. If you try this with 'map' the result would not be the same."
   ]
  },
  {
   "cell_type": "code",
   "execution_count": 12,
   "metadata": {},
   "outputs": [
    {
     "data": {
      "text/html": [
       "<table style=\"border: 1px\"><tr><th>Partition 0<th>Partition 1<th>Partition 2<th>Partition 3<th>Partition 4</tr><tr><td><ul><li>Arkan<li>sas<li>India<li>na<li>Missi<li>ssipp<li>i<li>North<li> Dako<li>ta<li>Utah<li>Maine<li>New H<li>ampsh<li>ire<li>Rhode<li> Isla<li>nd<li>Wisco<li>nsin<li>Georg<li>ia<li>Maryl<li>and<li>New J<li>ersey<li>South<li> Caro<li>lina<li>Wyomi<li>ng</ul></td><td valign=\"bottom\" halign=\"left\"><ul><li>Alaba<li>ma<li>Hawai<li>i<li>Massa<li>chuse<li>tts<li>New M<li>exico<li>South<li> Dako<li>ta<li>Alask<li>a<li>Idaho<li>Michi<li>gan<li>New Y<li>ork<li>Tenne<li>ssee<li>Arizo<li>na</ul></td><td valign=\"bottom\" halign=\"left\"><ul><li>Nebra<li>ska<li>Orego<li>n<li>Washi<li>ngton<li>Delaw<li>are<li>Louis<li>iana<li>Nevad<li>a<li>Penns<li>ylvan<li>ia<li>West <li>Virgi<li>nia<li>Flori<li>da</ul></td><td valign=\"bottom\" halign=\"left\"><ul><li>Calif<li>ornia<li>Iowa<li>Misso<li>uri<li>Ohio<li>Vermo<li>nt<li>Color<li>ado<li>Kansa<li>s<li>Monta<li>na<li>Oklah<li>oma<li>Virgi<li>nia<li>Conne<li>cticu<li>t<li>Kentu<li>cky</ul></td><td valign=\"bottom\" halign=\"left\"><ul><li>Illin<li>ois<li>Minne<li>sota<li>North<li> Caro<li>lina<li>Texas</ul></td></table>"
      ],
      "text/plain": [
       "<__main__.DisplayRDD at 0x7f48344702b0>"
      ]
     },
     "execution_count": 12,
     "metadata": {},
     "output_type": "execute_result"
    }
   ],
   "source": [
    "DisplayRDD(states_rdd.flatMap(lambda x: [str(x[i:i+5]) for i in range(0, len(x), 5)]))"
   ]
  },
  {
   "cell_type": "markdown",
   "metadata": {},
   "source": [
    "### Basics 3: Joins\n",
    "\n",
    "Finally, lets look at an example of joins. We will still use small RDDs, but we now need two of them. We will just use `sc.parallelize` to create those RDDs. That functions takes in a list and creates an RDD of that by creating partitions and splitting them across machines. It takes the number of partitions as the second argument (optional).\n",
    "\n",
    "Note again that Spark made no attempt to co-locate the objects (i.e., the tuples) with the same key."
   ]
  },
  {
   "cell_type": "code",
   "execution_count": 13,
   "metadata": {},
   "outputs": [
    {
     "data": {
      "text/html": [
       "<table style=\"border: 1px\"><tr><th>Partition 0<th>Partition 1<th>Partition 2</tr><tr><td><ul><li>('alpha', 1)</ul></td><td valign=\"bottom\" halign=\"left\"><ul><li>('beta', 2)<li>('gamma', 3)</ul></td><td valign=\"bottom\" halign=\"left\"><ul><li>('alpha', 5)<li>('beta', 6)</ul></td></table>"
      ],
      "text/plain": [
       "<__main__.DisplayRDD at 0x7f4834521d30>"
      ]
     },
     "execution_count": 13,
     "metadata": {},
     "output_type": "execute_result"
    }
   ],
   "source": [
    "rdd1 = sc.parallelize([('alpha', 1), ('beta', 2), ('gamma', 3), ('alpha', 5), ('beta', 6)], 3)\n",
    "DisplayRDD(rdd1)"
   ]
  },
  {
   "cell_type": "code",
   "execution_count": 14,
   "metadata": {},
   "outputs": [
    {
     "data": {
      "text/html": [
       "<table style=\"border: 1px\"><tr><th>Partition 0<th>Partition 1<th>Partition 2</tr><tr><td><ul><li>('alpha', 'South Dakota')</ul></td><td valign=\"bottom\" halign=\"left\"><ul><li>('beta', 'North Dakota')</ul></td><td valign=\"bottom\" halign=\"left\"><ul><li>('zeta', 'Maryland')<li>('beta', 'Washington')</ul></td></table>"
      ],
      "text/plain": [
       "<__main__.DisplayRDD at 0x7f4834535780>"
      ]
     },
     "execution_count": 14,
     "metadata": {},
     "output_type": "execute_result"
    }
   ],
   "source": [
    "rdd2 = sc.parallelize([('alpha', 'South Dakota'), ('beta', 'North Dakota'), ('zeta', 'Maryland'), ('beta', 'Washington')], 3)\n",
    "DisplayRDD(rdd2)"
   ]
  },
  {
   "cell_type": "markdown",
   "metadata": {},
   "source": [
    "Here is the definition of join from the programming guide.\n",
    "```\n",
    "When called on datasets of type (K, V) and (K, W), returns a dataset of (K, (V, W)) pairs with all pairs of elements for each key. Outer joins are supported through leftOuterJoin, rightOuterJoin, and fullOuterJoin. \n",
    "```\n",
    "We want to join on the first attributes, so we can just call join directly, otherwise a map may have been required."
   ]
  },
  {
   "cell_type": "code",
   "execution_count": 15,
   "metadata": {},
   "outputs": [
    {
     "data": {
      "text/html": [
       "<table style=\"border: 1px\"><tr><th>Partition 0<th>Partition 1<th>Partition 2<th>Partition 3<th>Partition 4<th>Partition 5</tr><tr><td><ul><li></ul></td><td valign=\"bottom\" halign=\"left\"><ul><li></ul></td><td valign=\"bottom\" halign=\"left\"><ul><li></ul></td><td valign=\"bottom\" halign=\"left\"><ul><li></ul></td><td valign=\"bottom\" halign=\"left\"><ul><li></ul></td><td valign=\"bottom\" halign=\"left\"><ul><li>('alpha', (1, 'South Dakota'))<li>('alpha', (5, 'South Dakota'))<li>('beta', (2, 'North Dakota'))<li>('beta', (2, 'Washington'))<li>('beta', (6, 'North Dakota'))<li>('beta', (6, 'Washington'))</ul></td></table>"
      ],
      "text/plain": [
       "<__main__.DisplayRDD at 0x7f483453bdd8>"
      ]
     },
     "execution_count": 15,
     "metadata": {},
     "output_type": "execute_result"
    }
   ],
   "source": [
    "rdd3 = rdd1.join(rdd2)\n",
    "DisplayRDD(rdd3)"
   ]
  },
  {
   "cell_type": "markdown",
   "metadata": {},
   "source": [
    "There is a bunch of empty partitions. We could have controlled the number of partitions with an optional argument to join. But in any case, the output looks like what we were trying to do. Using `outerjoins` behaves as you would expect, with two extra tuples for fullOuterJoin."
   ]
  },
  {
   "cell_type": "code",
   "execution_count": null,
   "metadata": {},
   "outputs": [],
   "source": [
    "DisplayRDD(rdd1.fullOuterJoin(rdd2))"
   ]
  },
  {
   "cell_type": "markdown",
   "metadata": {},
   "source": [
    "`cogroup` is a related function, but basically creates two lists with each key. The `value` in that case is more complex, and our code above can't handle it. As we can see, there is a single object corresponding to each key, and the values are basically a pair of `iterables`."
   ]
  },
  {
   "cell_type": "code",
   "execution_count": null,
   "metadata": {},
   "outputs": [],
   "source": [
    "DisplayRDD(rdd1.cogroup(rdd2))"
   ]
  },
  {
   "cell_type": "markdown",
   "metadata": {},
   "source": [
    "### Basics 4\n",
    "\n",
    "Here we show a `word count` example using another file `play.txt`. You can use the DisplayRDD function here, but the output is rather large."
   ]
  },
  {
   "cell_type": "code",
   "execution_count": null,
   "metadata": {
    "collapsed": true
   },
   "outputs": [],
   "source": [
    "textFile = sc.textFile(\"play.txt\", 10)"
   ]
  },
  {
   "cell_type": "code",
   "execution_count": null,
   "metadata": {},
   "outputs": [],
   "source": [
    "textFile.count()"
   ]
  },
  {
   "cell_type": "code",
   "execution_count": null,
   "metadata": {},
   "outputs": [],
   "source": [
    "textFile.take(5)"
   ]
  },
  {
   "cell_type": "markdown",
   "metadata": {},
   "source": [
    "The following command does a word count, by first separating out the words using a `flatMap`, and then using a `reduceByKey`."
   ]
  },
  {
   "cell_type": "code",
   "execution_count": null,
   "metadata": {},
   "outputs": [],
   "source": [
    "counts = textFile.flatMap(lambda line: line.split(\" \")).map(lambda word: (word, 1)).reduceByKey(lambda a, b: a + b)\n",
    "DisplayRDD(counts)"
   ]
  },
  {
   "cell_type": "markdown",
   "metadata": {
    "collapsed": true
   },
   "source": [
    "The above single-line code chained a sequence of Spark operations. Here is how it would look if you were to separate all of those out into individual functions:\n",
    "```\n",
    "def split(line): \n",
    "    return line.split(\" \")\n",
    "def generateone(word): \n",
    "    return (word, 1)\n",
    "def sum(a, b):\n",
    "    return a + b\n",
    "\n",
    "textfile.flatMap(split).map(generateone).reduceByKey(sum)\n",
    "```"
   ]
  },
  {
   "cell_type": "code",
   "execution_count": 16,
   "metadata": {
    "collapsed": true
   },
   "outputs": [],
   "source": [
    "t1 = sc.textFile(\"lkjsdflkjsdf\")"
   ]
  },
  {
   "cell_type": "code",
   "execution_count": 17,
   "metadata": {
    "collapsed": true
   },
   "outputs": [],
   "source": [
    "t2 = t1.map(lambda x: (x, 1))"
   ]
  },
  {
   "cell_type": "code",
   "execution_count": 18,
   "metadata": {
    "collapsed": true
   },
   "outputs": [],
   "source": [
    "t3 = t2.filter(True)"
   ]
  },
  {
   "cell_type": "code",
   "execution_count": 19,
   "metadata": {},
   "outputs": [
    {
     "ename": "Py4JJavaError",
     "evalue": "An error occurred while calling z:org.apache.spark.api.python.PythonRDD.collectAndServe.\n: org.apache.hadoop.mapred.InvalidInputException: Input path does not exist: file:/home/jovyan/notebooks/lkjsdflkjsdf\n\tat org.apache.hadoop.mapred.FileInputFormat.singleThreadedListStatus(FileInputFormat.java:287)\n\tat org.apache.hadoop.mapred.FileInputFormat.listStatus(FileInputFormat.java:229)\n\tat org.apache.hadoop.mapred.FileInputFormat.getSplits(FileInputFormat.java:315)\n\tat org.apache.spark.rdd.HadoopRDD.getPartitions(HadoopRDD.scala:202)\n\tat org.apache.spark.rdd.RDD$$anonfun$partitions$2.apply(RDD.scala:252)\n\tat org.apache.spark.rdd.RDD$$anonfun$partitions$2.apply(RDD.scala:250)\n\tat scala.Option.getOrElse(Option.scala:121)\n\tat org.apache.spark.rdd.RDD.partitions(RDD.scala:250)\n\tat org.apache.spark.rdd.MapPartitionsRDD.getPartitions(MapPartitionsRDD.scala:35)\n\tat org.apache.spark.rdd.RDD$$anonfun$partitions$2.apply(RDD.scala:252)\n\tat org.apache.spark.rdd.RDD$$anonfun$partitions$2.apply(RDD.scala:250)\n\tat scala.Option.getOrElse(Option.scala:121)\n\tat org.apache.spark.rdd.RDD.partitions(RDD.scala:250)\n\tat org.apache.spark.api.python.PythonRDD.getPartitions(PythonRDD.scala:53)\n\tat org.apache.spark.rdd.RDD$$anonfun$partitions$2.apply(RDD.scala:252)\n\tat org.apache.spark.rdd.RDD$$anonfun$partitions$2.apply(RDD.scala:250)\n\tat scala.Option.getOrElse(Option.scala:121)\n\tat org.apache.spark.rdd.RDD.partitions(RDD.scala:250)\n\tat org.apache.spark.SparkContext.runJob(SparkContext.scala:1965)\n\tat org.apache.spark.rdd.RDD$$anonfun$collect$1.apply(RDD.scala:936)\n\tat org.apache.spark.rdd.RDDOperationScope$.withScope(RDDOperationScope.scala:151)\n\tat org.apache.spark.rdd.RDDOperationScope$.withScope(RDDOperationScope.scala:112)\n\tat org.apache.spark.rdd.RDD.withScope(RDD.scala:362)\n\tat org.apache.spark.rdd.RDD.collect(RDD.scala:935)\n\tat org.apache.spark.api.python.PythonRDD$.collectAndServe(PythonRDD.scala:453)\n\tat org.apache.spark.api.python.PythonRDD.collectAndServe(PythonRDD.scala)\n\tat sun.reflect.NativeMethodAccessorImpl.invoke0(Native Method)\n\tat sun.reflect.NativeMethodAccessorImpl.invoke(NativeMethodAccessorImpl.java:62)\n\tat sun.reflect.DelegatingMethodAccessorImpl.invoke(DelegatingMethodAccessorImpl.java:43)\n\tat java.lang.reflect.Method.invoke(Method.java:498)\n\tat py4j.reflection.MethodInvoker.invoke(MethodInvoker.java:244)\n\tat py4j.reflection.ReflectionEngine.invoke(ReflectionEngine.java:357)\n\tat py4j.Gateway.invoke(Gateway.java:280)\n\tat py4j.commands.AbstractCommand.invokeMethod(AbstractCommand.java:132)\n\tat py4j.commands.CallCommand.execute(CallCommand.java:79)\n\tat py4j.GatewayConnection.run(GatewayConnection.java:214)\n\tat java.lang.Thread.run(Thread.java:748)\n",
     "output_type": "error",
     "traceback": [
      "\u001b[0;31m---------------------------------------------------------------------------\u001b[0m",
      "\u001b[0;31mPy4JJavaError\u001b[0m                             Traceback (most recent call last)",
      "\u001b[0;32m<ipython-input-19-eb4d7e59cc93>\u001b[0m in \u001b[0;36m<module>\u001b[0;34m()\u001b[0m\n\u001b[0;32m----> 1\u001b[0;31m \u001b[0mt3\u001b[0m\u001b[0;34m.\u001b[0m\u001b[0mcollect\u001b[0m\u001b[0;34m(\u001b[0m\u001b[0;34m)\u001b[0m\u001b[0;34m\u001b[0m\u001b[0m\n\u001b[0m",
      "\u001b[0;32m/usr/local/spark/python/pyspark/rdd.py\u001b[0m in \u001b[0;36mcollect\u001b[0;34m(self)\u001b[0m\n\u001b[1;32m    806\u001b[0m         \"\"\"\n\u001b[1;32m    807\u001b[0m         \u001b[0;32mwith\u001b[0m \u001b[0mSCCallSiteSync\u001b[0m\u001b[0;34m(\u001b[0m\u001b[0mself\u001b[0m\u001b[0;34m.\u001b[0m\u001b[0mcontext\u001b[0m\u001b[0;34m)\u001b[0m \u001b[0;32mas\u001b[0m \u001b[0mcss\u001b[0m\u001b[0;34m:\u001b[0m\u001b[0;34m\u001b[0m\u001b[0m\n\u001b[0;32m--> 808\u001b[0;31m             \u001b[0mport\u001b[0m \u001b[0;34m=\u001b[0m \u001b[0mself\u001b[0m\u001b[0;34m.\u001b[0m\u001b[0mctx\u001b[0m\u001b[0;34m.\u001b[0m\u001b[0m_jvm\u001b[0m\u001b[0;34m.\u001b[0m\u001b[0mPythonRDD\u001b[0m\u001b[0;34m.\u001b[0m\u001b[0mcollectAndServe\u001b[0m\u001b[0;34m(\u001b[0m\u001b[0mself\u001b[0m\u001b[0;34m.\u001b[0m\u001b[0m_jrdd\u001b[0m\u001b[0;34m.\u001b[0m\u001b[0mrdd\u001b[0m\u001b[0;34m(\u001b[0m\u001b[0;34m)\u001b[0m\u001b[0;34m)\u001b[0m\u001b[0;34m\u001b[0m\u001b[0m\n\u001b[0m\u001b[1;32m    809\u001b[0m         \u001b[0;32mreturn\u001b[0m \u001b[0mlist\u001b[0m\u001b[0;34m(\u001b[0m\u001b[0m_load_from_socket\u001b[0m\u001b[0;34m(\u001b[0m\u001b[0mport\u001b[0m\u001b[0;34m,\u001b[0m \u001b[0mself\u001b[0m\u001b[0;34m.\u001b[0m\u001b[0m_jrdd_deserializer\u001b[0m\u001b[0;34m)\u001b[0m\u001b[0;34m)\u001b[0m\u001b[0;34m\u001b[0m\u001b[0m\n\u001b[1;32m    810\u001b[0m \u001b[0;34m\u001b[0m\u001b[0m\n",
      "\u001b[0;32m/usr/local/spark/python/lib/py4j-0.10.4-src.zip/py4j/java_gateway.py\u001b[0m in \u001b[0;36m__call__\u001b[0;34m(self, *args)\u001b[0m\n\u001b[1;32m   1131\u001b[0m         \u001b[0manswer\u001b[0m \u001b[0;34m=\u001b[0m \u001b[0mself\u001b[0m\u001b[0;34m.\u001b[0m\u001b[0mgateway_client\u001b[0m\u001b[0;34m.\u001b[0m\u001b[0msend_command\u001b[0m\u001b[0;34m(\u001b[0m\u001b[0mcommand\u001b[0m\u001b[0;34m)\u001b[0m\u001b[0;34m\u001b[0m\u001b[0m\n\u001b[1;32m   1132\u001b[0m         return_value = get_return_value(\n\u001b[0;32m-> 1133\u001b[0;31m             answer, self.gateway_client, self.target_id, self.name)\n\u001b[0m\u001b[1;32m   1134\u001b[0m \u001b[0;34m\u001b[0m\u001b[0m\n\u001b[1;32m   1135\u001b[0m         \u001b[0;32mfor\u001b[0m \u001b[0mtemp_arg\u001b[0m \u001b[0;32min\u001b[0m \u001b[0mtemp_args\u001b[0m\u001b[0;34m:\u001b[0m\u001b[0;34m\u001b[0m\u001b[0m\n",
      "\u001b[0;32m/usr/local/spark/python/lib/py4j-0.10.4-src.zip/py4j/protocol.py\u001b[0m in \u001b[0;36mget_return_value\u001b[0;34m(answer, gateway_client, target_id, name)\u001b[0m\n\u001b[1;32m    317\u001b[0m                 raise Py4JJavaError(\n\u001b[1;32m    318\u001b[0m                     \u001b[0;34m\"An error occurred while calling {0}{1}{2}.\\n\"\u001b[0m\u001b[0;34m.\u001b[0m\u001b[0;34m\u001b[0m\u001b[0m\n\u001b[0;32m--> 319\u001b[0;31m                     format(target_id, \".\", name), value)\n\u001b[0m\u001b[1;32m    320\u001b[0m             \u001b[0;32melse\u001b[0m\u001b[0;34m:\u001b[0m\u001b[0;34m\u001b[0m\u001b[0m\n\u001b[1;32m    321\u001b[0m                 raise Py4JError(\n",
      "\u001b[0;31mPy4JJavaError\u001b[0m: An error occurred while calling z:org.apache.spark.api.python.PythonRDD.collectAndServe.\n: org.apache.hadoop.mapred.InvalidInputException: Input path does not exist: file:/home/jovyan/notebooks/lkjsdflkjsdf\n\tat org.apache.hadoop.mapred.FileInputFormat.singleThreadedListStatus(FileInputFormat.java:287)\n\tat org.apache.hadoop.mapred.FileInputFormat.listStatus(FileInputFormat.java:229)\n\tat org.apache.hadoop.mapred.FileInputFormat.getSplits(FileInputFormat.java:315)\n\tat org.apache.spark.rdd.HadoopRDD.getPartitions(HadoopRDD.scala:202)\n\tat org.apache.spark.rdd.RDD$$anonfun$partitions$2.apply(RDD.scala:252)\n\tat org.apache.spark.rdd.RDD$$anonfun$partitions$2.apply(RDD.scala:250)\n\tat scala.Option.getOrElse(Option.scala:121)\n\tat org.apache.spark.rdd.RDD.partitions(RDD.scala:250)\n\tat org.apache.spark.rdd.MapPartitionsRDD.getPartitions(MapPartitionsRDD.scala:35)\n\tat org.apache.spark.rdd.RDD$$anonfun$partitions$2.apply(RDD.scala:252)\n\tat org.apache.spark.rdd.RDD$$anonfun$partitions$2.apply(RDD.scala:250)\n\tat scala.Option.getOrElse(Option.scala:121)\n\tat org.apache.spark.rdd.RDD.partitions(RDD.scala:250)\n\tat org.apache.spark.api.python.PythonRDD.getPartitions(PythonRDD.scala:53)\n\tat org.apache.spark.rdd.RDD$$anonfun$partitions$2.apply(RDD.scala:252)\n\tat org.apache.spark.rdd.RDD$$anonfun$partitions$2.apply(RDD.scala:250)\n\tat scala.Option.getOrElse(Option.scala:121)\n\tat org.apache.spark.rdd.RDD.partitions(RDD.scala:250)\n\tat org.apache.spark.SparkContext.runJob(SparkContext.scala:1965)\n\tat org.apache.spark.rdd.RDD$$anonfun$collect$1.apply(RDD.scala:936)\n\tat org.apache.spark.rdd.RDDOperationScope$.withScope(RDDOperationScope.scala:151)\n\tat org.apache.spark.rdd.RDDOperationScope$.withScope(RDDOperationScope.scala:112)\n\tat org.apache.spark.rdd.RDD.withScope(RDD.scala:362)\n\tat org.apache.spark.rdd.RDD.collect(RDD.scala:935)\n\tat org.apache.spark.api.python.PythonRDD$.collectAndServe(PythonRDD.scala:453)\n\tat org.apache.spark.api.python.PythonRDD.collectAndServe(PythonRDD.scala)\n\tat sun.reflect.NativeMethodAccessorImpl.invoke0(Native Method)\n\tat sun.reflect.NativeMethodAccessorImpl.invoke(NativeMethodAccessorImpl.java:62)\n\tat sun.reflect.DelegatingMethodAccessorImpl.invoke(DelegatingMethodAccessorImpl.java:43)\n\tat java.lang.reflect.Method.invoke(Method.java:498)\n\tat py4j.reflection.MethodInvoker.invoke(MethodInvoker.java:244)\n\tat py4j.reflection.ReflectionEngine.invoke(ReflectionEngine.java:357)\n\tat py4j.Gateway.invoke(Gateway.java:280)\n\tat py4j.commands.AbstractCommand.invokeMethod(AbstractCommand.java:132)\n\tat py4j.commands.CallCommand.execute(CallCommand.java:79)\n\tat py4j.GatewayConnection.run(GatewayConnection.java:214)\n\tat java.lang.Thread.run(Thread.java:748)\n"
     ]
    }
   ],
   "source": [
    "t3.collect()"
   ]
  },
  {
   "cell_type": "code",
   "execution_count": null,
   "metadata": {
    "collapsed": true
   },
   "outputs": [],
   "source": []
  }
 ],
 "metadata": {
  "kernelspec": {
   "display_name": "Python 3",
   "language": "python",
   "name": "python3"
  },
  "language_info": {
   "codemirror_mode": {
    "name": "ipython",
    "version": 3
   },
   "file_extension": ".py",
   "mimetype": "text/x-python",
   "name": "python",
   "nbconvert_exporter": "python",
   "pygments_lexer": "ipython3",
   "version": "3.6.1"
  }
 },
 "nbformat": 4,
 "nbformat_minor": 1
}
